{
 "cells": [
  {
   "cell_type": "markdown",
   "metadata": {},
   "source": [
    "## Basic Lib to parse PSO XML and Read PSO Schedule using API\n",
    "this set of functions is used mainly in the following notebooks:\n",
    "<br/>01 - PSO File Schedule Analyzer\n",
    "<br/>02 - PSO Plan Scheduler Analyzer\n",
    "\n",
    "and it's meant as a basis to extract the data from a PSO schedule according to the Scheduling Schema pdf file"
   ]
  },
  {
   "cell_type": "code",
   "execution_count": 1,
   "metadata": {},
   "outputs": [],
   "source": [
    "from datetime import timedelta\n",
    "import isodate\n",
    "import pandas as pd\n",
    "import numpy as np\n",
    "import xml.etree.ElementTree as ET\n",
    "import matplotlib.pyplot as plt\n",
    "import seaborn as sns\n",
    "import requests\n"
   ]
  },
  {
   "cell_type": "markdown",
   "metadata": {},
   "source": [
    "# Function(s) to parse XML and extract <Record> records into a DataFrame using a file or plan from dataset"
   ]
  },
  {
   "cell_type": "code",
   "execution_count": 2,
   "metadata": {},
   "outputs": [],
   "source": [
    "def parse_records_to_dataframe_by_file(xml_file: str, record_tag: str):\n",
    "    tree = ET.parse(xml_file)\n",
    "    root = tree.getroot()\n",
    "    return parse_records_to_dataframe(root, record_tag)\n",
    "\n",
    "\n",
    "def parse_records_to_dataframe_by_string(xml_str: str, record_tag: str):\n",
    "    root = ET.fromstring(xml_str)\n",
    "    return parse_records_to_dataframe(root, record_tag)\n",
    "\n",
    "# Function to parse XML and extract <record_tag> records into a DataFrame\n",
    "\n",
    "\n",
    "def parse_records_to_dataframe(root, record_tag: str):\n",
    "    # tree = ET.parse(xml_file)\n",
    "    # root = tree.getroot()\n",
    "\n",
    "    # Define the namespace\n",
    "    ns = {'ns': 'http://360Scheduling.com/Schema/dsScheduleData.xsd'}\n",
    "\n",
    "    records = []\n",
    "\n",
    "    # Extract data from each <record_tag> record\n",
    "    for record in root.findall(f'ns:{record_tag}', ns):\n",
    "        record_data = {}\n",
    "        for element in record:\n",
    "            tag = element.tag.split('}')[-1]  # Remove namespace if present\n",
    "            record_data[tag] = element.text\n",
    "        records.append(record_data)\n",
    "\n",
    "    # Create DataFrame\n",
    "    df = pd.DataFrame(records)\n",
    "\n",
    "    # Convert columns containing 'date' to datetime\n",
    "    for column in df.columns:\n",
    "        #if ('date' in column or 'start_time' in column or 'end_time' or 'activity_start' or 'activity_end' in column):\n",
    "        if ('date' in column or 'start_time' in column or 'end_time' in column or 'activity_start' in column or 'activity_end' in column):\n",
    "            #column name is different from date_time_fixed\n",
    "            if column != 'date_time_fixed':\n",
    "                df[column] = pd.to_datetime(df[column])\n",
    "\n",
    "    return df"
   ]
  },
  {
   "cell_type": "markdown",
   "metadata": {},
   "source": [
    "# Function to read a configuration file for Parameters and password"
   ]
  },
  {
   "cell_type": "code",
   "execution_count": 3,
   "metadata": {},
   "outputs": [],
   "source": [
    "# Function that reads psourl, accountid, user and password parameters  from file config.txt and store in variables\n",
    "def read_config_file(file: str):\n",
    "    with open(file) as f:\n",
    "        lines = f.readlines()\n",
    "        psourl = lines[0].split('=')[1].strip()\n",
    "        accountid = lines[1].split('=')[1].strip()\n",
    "        user = lines[2].split('=')[1].strip()\n",
    "        password = lines[3].split('=')[1].strip()\n",
    "    return psourl, accountid, user, password"
   ]
  },
  {
   "cell_type": "markdown",
   "metadata": {},
   "source": [
    "# Get PSO Authorization Token"
   ]
  },
  {
   "cell_type": "code",
   "execution_count": 4,
   "metadata": {},
   "outputs": [],
   "source": [
    "# create a function that call a rest api using post and extract the \"SessionToken\" from the response\n",
    "def get_session_token(psourl: str, accountid: str, user: str, password: str):\n",
    "\n",
    "    # Get the PSO token\n",
    "    url = f\"{psourl}/session?accountId={accountid}&userName={user}&password={password}\"\n",
    "    response = requests.post(url)\n",
    "    response.raise_for_status()\n",
    "    session_token = response.json()[\"SessionToken\"]\n",
    "    return session_token"
   ]
  },
  {
   "cell_type": "markdown",
   "metadata": {},
   "source": [
    "# Get PSO Plan from Rest API"
   ]
  },
  {
   "cell_type": "code",
   "execution_count": 6,
   "metadata": {},
   "outputs": [],
   "source": [
    "# create a function that call a rest api with get using datasetId as input parameter of the functiona and url and store the respone in planXML variable\n",
    "def get_plan_xml(datasetId: str, token: str):\n",
    "\n",
    "    # Get the PSO plan\n",
    "    url = f\"{psourl}/data?datasetId={datasetId}&includeInput=true&includeOutput=true\"\n",
    "    headers = {\"Authorization\": f\"Bearer {\n",
    "        token}\", \"Accept\": f\"application/xml\"}\n",
    "    response = requests.get(url, headers=headers)\n",
    "    response.raise_for_status()\n",
    "    planXML = response.text\n",
    "    return planXML"
   ]
  },
  {
   "cell_type": "markdown",
   "metadata": {},
   "source": [
    "## Store the token in a global variable"
   ]
  },
  {
   "cell_type": "code",
   "execution_count": 5,
   "metadata": {},
   "outputs": [],
   "source": [
    "#global token\n",
    "#psourl, accountid, user, password = read_config_file(\"../config/config.txt\")\n",
    "#token = get_session_token(psourl, accountid, user, password)"
   ]
  },
  {
   "cell_type": "markdown",
   "metadata": {},
   "source": [
    "## Test the retrieval of a plan from the server"
   ]
  },
  {
   "cell_type": "code",
   "execution_count": 7,
   "metadata": {},
   "outputs": [],
   "source": [
    "# test get_plan_xml function\n",
    "#planXML = get_plan_xml(\"LXDEMO\",token)"
   ]
  }
 ],
 "metadata": {
  "kernelspec": {
   "display_name": "Python 3",
   "language": "python",
   "name": "python3"
  },
  "language_info": {
   "codemirror_mode": {
    "name": "ipython",
    "version": 3
   },
   "file_extension": ".py",
   "mimetype": "text/x-python",
   "name": "python",
   "nbconvert_exporter": "python",
   "pygments_lexer": "ipython3",
   "version": "3.12.4"
  }
 },
 "nbformat": 4,
 "nbformat_minor": 2
}
