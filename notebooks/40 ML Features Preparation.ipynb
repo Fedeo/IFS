{
 "cells": [
  {
   "cell_type": "code",
   "execution_count": null,
   "metadata": {},
   "outputs": [],
   "source": [
    "#TODO:\n",
    "#Prepare a dataset with the following columns:\n",
    "    # 1. Activity ID\n",
    "    # 2. Activity Type\n",
    "    # 3. Location ID\n",
    "    # 4. Planned Duration (in hours)\n",
    "    # 5. Real Duration (in hours)\n",
    "    # 6. #Nbr/Type of Skills Required\n",
    "    # 7. Material Needed Y/N\n",
    "    # 8. Resource Needed Y/N\n",
    "\n",
    "# Classificatio Models: is it going to finish on time?\n",
    "# Regression Models: how long is it going to take?"
   ]
  }
 ],
 "metadata": {
  "language_info": {
   "name": "python"
  }
 },
 "nbformat": 4,
 "nbformat_minor": 2
}
