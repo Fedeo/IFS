{
 "cells": [
  {
   "cell_type": "markdown",
   "metadata": {},
   "source": [
    "## Library to extract Core Statistics from IFS PSO (Planning and Schedule Optimization) XML Schedule\n",
    "in the current woorkbooks these are mainly used for Comparing WISE Statistics can be also used just a simple summary from any PSO Schedule. For such cases the PowerBI reports from Alex Heinze are definitely a better solution. It can obviously easily be expanded according to everyone needs"
   ]
  },
  {
   "cell_type": "markdown",
   "metadata": {},
   "source": [
    "Load libraries and xml extractions functions"
   ]
  },
  {
   "cell_type": "code",
   "execution_count": 1,
   "metadata": {},
   "outputs": [],
   "source": [
    "%run \"00 - PSO Data Load Basic lib.ipynb\""
   ]
  },
  {
   "cell_type": "markdown",
   "metadata": {},
   "source": [
    "## Extract the PSO Statistics as from the &lt;plan&gt; record within the PSO Schedule\n",
    "These are pre-calculated stats from PSO"
   ]
  },
  {
   "cell_type": "code",
   "execution_count": 2,
   "metadata": {},
   "outputs": [],
   "source": [
    "def stats_from_plan_data(dataframes_dict):\n",
    "\n",
    "    #Get the plan data\n",
    "    df_plan = dataframes_dict['df_plan']\n",
    "    df_resources = dataframes_dict['df_resources']\n",
    "\n",
    "    #get the value of out of the stats from the first row of df_plan\n",
    "    total_allocations = df_plan.iloc[0]['total_allocations']\n",
    "    total_travel_time = isodate.parse_duration(df_plan.iloc[0]['total_travel_time'])\n",
    "    total_travel_distance = df_plan.iloc[0]['total_travel_distance']\n",
    "    average_travel_time = isodate.parse_duration(df_plan.iloc[0]['average_travel_time'])\n",
    "    average_travel_distance = df_plan.iloc[0]['average_travel_distance'] \n",
    "    total_on_site_time = isodate.parse_duration(df_plan.iloc[0]['total_on_site_time'])\n",
    "    total_private_time = isodate.parse_duration(df_plan.iloc[0]['total_private_time'])\n",
    "    total_unutilised_time = isodate.parse_duration(df_plan.iloc[0]['total_unutilised_time'])\n",
    "    schedule_from = df_plan.iloc[0]['schedule_from']\n",
    "    schedule_to = df_plan.iloc[0]['schedule_to']\n",
    "    plan_margin = df_plan.iloc[0]['plan_margin']\n",
    "\n",
    "    #Get data on available resources\n",
    "    available_resources = df_resources.shape[0]\n",
    "\n",
    "    # Travel distance per resources\n",
    "    travel_distance_per_resource = float(total_travel_distance) / int(available_resources)\n",
    "\n",
    "    #combine all variables above in a single record of a list with name of the variables\n",
    "    stats_record = {\n",
    "        'from': schedule_from,\n",
    "        'to': schedule_to,\n",
    "        'Margin': plan_margin,\n",
    "        'tot allocations': total_allocations,\n",
    "        'Available resources': available_resources,\n",
    "        'tot travel time': total_travel_time,\n",
    "        'tot traveldistance': total_travel_distance,\n",
    "        'avg travel time': average_travel_time,\n",
    "        'avg traveldistance': average_travel_distance,\n",
    "        'travel distance per resource': travel_distance_per_resource,\n",
    "        'tot on site time': total_on_site_time,\n",
    "        'tot private time': total_private_time,\n",
    "        'tot unutilised time': total_unutilised_time\n",
    "    }\n",
    "    stats = [stats_record]\n",
    "\n",
    "    return stats\n"
   ]
  },
  {
   "cell_type": "markdown",
   "metadata": {},
   "source": [
    "## Calculate some core Stats from the PSO Schedule\n",
    "These are re-calculated stats from the schedule data"
   ]
  },
  {
   "cell_type": "code",
   "execution_count": null,
   "metadata": {},
   "outputs": [],
   "source": [
    "def stats(dataframes_dict):\n",
    "\n",
    "    #Get the plan data from alla dataframes\n",
    "    df_resources = dataframes_dict['df_resources']\n",
    "    df_allocation_data = dataframes_dict['df_allocation_data']\n",
    "    df_plan_travel = dataframes_dict['df_plan_travel']\n",
    "    df_shift = dataframes_dict['df_shift']\n",
    "    df_shift_break = dataframes_dict['df_shift_break']\n",
    "\n",
    "    ####################### Calculate Utilization ######################## \n",
    "    #calculate total work hours summing df_allocation_data['duration']\n",
    "    total_work_hours = df_allocation_data['duration'].apply(isodate.parse_duration).sum() \n",
    "\n",
    "    #calculate total travel hours summing df_plan_travel['expected_travel_time'] after convertingto isodate\n",
    "    total_travel_hours = df_plan_travel['expected_travel_time'].apply(isodate.parse_duration).sum()\n",
    "\n",
    "    #calculate total shift as subtraction of start and end time of shift from df_shift\n",
    "    total_shift = (df_shift['end_time'] - df_shift['start_time']).apply(isodate.parse_duration).sum()\n",
    "\n",
    "    #calculate total shift break as sum of df_shift_break['duration']\n",
    "    total_shift_break = df_shift_break['duration'].apply(isodate.parse_duration).sum()\n",
    "\n",
    "    #calculate total utlization\n",
    "    total_utilization = (total_work_hours + total_travel_hours) / (total_shift - total_shift_break)\n",
    "\n",
    "    #create a stats_record adding utilization\n",
    "    stats_record = {\n",
    "        'Utilization': total_utilization\n",
    "    }\n",
    "    \n",
    "    stats = [stats_record]\n",
    "\n",
    "    return stats\n"
   ]
  },
  {
   "cell_type": "markdown",
   "metadata": {},
   "source": [
    "## Wrappers for the two functions above"
   ]
  },
  {
   "cell_type": "code",
   "execution_count": null,
   "metadata": {},
   "outputs": [],
   "source": [
    "\n",
    "def calculate_stats_from_plan(file_to_parse: str):\n",
    "    \n",
    "    #Get the plan data\n",
    "    df_plan = parse_records_to_dataframe_by_file(file_to_parse,'Plan')\n",
    "    df_resources = parse_records_to_dataframe_by_file(file_to_parse,'Resources')\n",
    "\n",
    "\n",
    "    #add dataframes to a list of dataframes\n",
    "    dataframes_dict = {\n",
    "        'df_plan': df_plan,\n",
    "        'df_resources': df_resources\n",
    "    }\n",
    "    \n",
    "    return stats_from_plan_data(dataframes_dict)"
   ]
  },
  {
   "cell_type": "code",
   "execution_count": null,
   "metadata": {},
   "outputs": [],
   "source": [
    "import random\n",
    "\n",
    "def calculate_stats(file_to_parse: str):\n",
    "    \n",
    "    #Get the plan data\n",
    "    df_plan = parse_records_to_dataframe_by_file(file_to_parse,'Plan')\n",
    "    df_resources = parse_records_to_dataframe_by_file(file_to_parse,'Resources')\n",
    "    df_allocation_data = parse_records_to_dataframe_by_file(file_to_parse,'Allocation_Data')\n",
    "    df_plan_travel = parse_records_to_dataframe_by_file(file_to_parse,'Plan_Travel')\n",
    "    df_shift = parse_records_to_dataframe_by_file(file_to_parse,'Shift')\n",
    "    df_shift_break = parse_records_to_dataframe_by_file(file_to_parse,'Shift_Break')\n",
    "\n",
    "    #add dataframes to a list of dataframes\n",
    "    dataframes_dict = {\n",
    "        'df_plan': df_plan,\n",
    "        'df_resources': df_resources,\n",
    "        'df_allocation_data': df_allocation_data,\n",
    "        'df_plan_travel': df_plan_travel,\n",
    "        'df_shift': df_shift,\n",
    "        'df_shift_break': df_shift_break\n",
    "    }\n",
    "    \n",
    "    return stats_from_plan_data(dataframes_dict)"
   ]
  }
 ],
 "metadata": {
  "kernelspec": {
   "display_name": "Python 3",
   "language": "python",
   "name": "python3"
  },
  "language_info": {
   "codemirror_mode": {
    "name": "ipython",
    "version": 3
   },
   "file_extension": ".py",
   "mimetype": "text/x-python",
   "name": "python",
   "nbconvert_exporter": "python",
   "pygments_lexer": "ipython3",
   "version": "3.12.4"
  }
 },
 "nbformat": 4,
 "nbformat_minor": 2
}
