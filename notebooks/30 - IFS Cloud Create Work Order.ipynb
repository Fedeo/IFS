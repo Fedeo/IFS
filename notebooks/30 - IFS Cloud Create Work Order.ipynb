{
 "cells": [
  {
   "cell_type": "markdown",
   "metadata": {},
   "source": [
    "## This workbook is intended to help on calling IFS Cloud Work Order API to create a task and Release it automatically"
   ]
  },
  {
   "cell_type": "markdown",
   "metadata": {},
   "source": [
    "Import libraries"
   ]
  },
  {
   "cell_type": "code",
   "execution_count": 1,
   "metadata": {},
   "outputs": [],
   "source": [
    "import random\n",
    "import requests\n",
    "import json\n",
    "from datetime import datetime\n",
    "from datetime import timedelta"
   ]
  },
  {
   "cell_type": "markdown",
   "metadata": {},
   "source": [
    "Function to read condifuration file for secret keys (check file ifscloudconfig.txt)"
   ]
  },
  {
   "cell_type": "code",
   "execution_count": 2,
   "metadata": {},
   "outputs": [],
   "source": [
    "def read_ifs_cloud_config_file(file: str):\n",
    "    with open(file) as f:\n",
    "        lines = f.readlines()\n",
    "        client_id = lines[0].split('=')[1].strip()\n",
    "        client_secret = lines[1].split('=')[1].strip()\n",
    "        user = lines[2].split('=')[1].strip()\n",
    "        password = lines[3].split('=')[1].strip()\n",
    "    return client_id, client_secret, user, password"
   ]
  },
  {
   "cell_type": "markdown",
   "metadata": {},
   "source": [
    "## Authenticate the user a get an access token"
   ]
  },
  {
   "cell_type": "code",
   "execution_count": 4,
   "metadata": {},
   "outputs": [
    {
     "name": "stdout",
     "output_type": "stream",
     "text": [
      "Access token retrieved successfully\n"
     ]
    }
   ],
   "source": [
    "# Authentication URL\n",
    "ifs_cloud_instance = \"ohot-d04.build.ifsdemoworld.com\"\n",
    "ifs_cloud_instance_id = \"ohotd041\"\n",
    "auth_url = f\"https://{ifs_cloud_instance}/auth/realms/{ifs_cloud_instance_id}/protocol/openid-connect/token\"\n",
    "\n",
    "#read credentials from file\n",
    "client_id, client_secret, username, password = read_ifs_cloud_config_file(\"../config/real-ifscloudconfig.txt\")\n",
    "\n",
    "# Authentication payload (replace with your actual credentials)\n",
    "auth_payload = {\n",
    "    \"grant_type\": \"password\",\n",
    "    \"client_id\": client_id,\n",
    "    \"client_secret\": client_secret,\n",
    "    \"username\": username,\n",
    "    \"password\": password\n",
    "}\n",
    "\n",
    "# Headers for the authentication request\n",
    "auth_headers = {\n",
    "    \"Content-Type\": \"application/x-www-form-urlencoded\"\n",
    "}\n",
    "\n",
    "# Make the POST request to get the access token\n",
    "auth_response = requests.post(auth_url, headers=auth_headers, data=auth_payload)\n",
    "\n",
    "# Check the response\n",
    "if auth_response.status_code == 200:\n",
    "    access_token = auth_response.json().get(\"access_token\")\n",
    "    print(\"Access token retrieved successfully\")\n",
    "else:\n",
    "    print(\"Failed to retrieve access token:\", auth_response.status_code, auth_response.text)\n"
   ]
  },
  {
   "cell_type": "markdown",
   "metadata": {},
   "source": [
    "## Call the IFS Cloud WorkOrderServices.svc/ReceiveWorkOrder API to create a Work Order"
   ]
  },
  {
   "cell_type": "code",
   "execution_count": 8,
   "metadata": {},
   "outputs": [
    {
     "name": "stdout",
     "output_type": "stream",
     "text": [
      "Work order created successfully: {'@odata.context': 'https://ohot-d04.build.ifsdemoworld.com/int/ifsapplications/projection/v1/WorkOrderServices.svc/$metadata#Edm.Decimal', 'value': 17}\n"
     ]
    }
   ],
   "source": [
    "\n",
    "# URL of the API endpoint\n",
    "url = f\"https://{ifs_cloud_instance}/int/ifsapplications/projection/v1/WorkOrderServices.svc/ReceiveWorkOrder\"\n",
    "\n",
    "\n",
    "# Headers for the request\n",
    "headers = {\n",
    "    \"Content-Type\": \"application/json\",\n",
    "    \"Accept\": \"application/json\",\n",
    "    \"Authorization\": f\"Bearer {access_token}\"\n",
    "}\n",
    "\n",
    "#Define EarlyStart and LatestFinish\n",
    "now = datetime.now()\n",
    "end_date = now + timedelta(days=30)\n",
    "earliestStart = now.strftime(\"%Y-%m-%dT%H:%M:%SZ\")\n",
    "latestFinish = end_date.strftime(\"%Y-%m-%dT%H:%M:%SZ\")\n",
    "\n",
    "#Variables\n",
    "timestamp = datetime.now().strftime(\"%Y%m%d_%H%M%S\")\n",
    "resourceGroup = 1353\n",
    "\n",
    "# Work Types generator\n",
    "workTypes = [\"10\", \"20\", \"30\", \"40\", \"50\", \"60\"]\n",
    "workType = random.choice(workTypes)\n",
    "\n",
    "# Payload with the JSON structure\n",
    "payload = {\n",
    "    \"ReceiveWo\": {\n",
    "        \"WorkTaskArray\": [\n",
    "            {   \n",
    "                \"Site\": \"211\",\n",
    "                \"OrganizationSite\": \"211\",\n",
    "                \"OrganizationId\": \"211\",\n",
    "                \"Description\": \"WorkTask created using WorkOrderServices API\",\n",
    "                \"ExcludeFromScheduling\": False,\n",
    "                \"WorkTypeId\": workType,\n",
    "                \"EarliestStart\":\"2024-03-29T08:00:00Z\",\n",
    "                \"LatestFinish\":\"2024-12-31T14:00:00Z\",\n",
    "                \"Duration\":2.5,\n",
    "                \"WorkTaskResourceArray\": [\n",
    "                    {   \"DemandType\": \"PERSON\",\n",
    "                        \"SourcingOption\": \"InternallySourced\",\n",
    "                        \"PlannedHours\": 2.5,\n",
    "                        \"PlannedQuantity\": 1,\n",
    "                        \"ResourceGroupSeq\": resourceGroup\n",
    "                    }\n",
    "                ],\n",
    "                \"WorkTaskAddressArray\": [\n",
    "                    {\n",
    "                        \"AddressId\": \"1\",\n",
    "                        \"Address1\":\"Via della Pelliccia, 12\",\n",
    "                        \"ZipCode\": \"00153\",\n",
    "                        \"City\": \"Rome\",\n",
    "                        \"State\":\"\",\n",
    "                        \"CountryCode\": \"IT\"\n",
    "                    }\n",
    "                ]\n",
    "            }\n",
    "        ],\n",
    "        \"RegDate\": \"2024-07-25T01:01:01Z\",\n",
    "        \"ErrDescr\": \"Test API for Task with address and demand\",\n",
    "        \"OrgCode\": \"211\",\n",
    "        \"Contract\": \"211\",\n",
    "\t\t\"OriginatingSystemId\": timestamp\n",
    "    }\n",
    "}\n",
    "\n",
    "# Convert the payload to JSON format\n",
    "data = json.dumps(payload)\n",
    "\n",
    "# Make the POST request to create the work order\n",
    "response = requests.post(url, headers=headers, data=data)\n",
    "\n",
    "# Check the response\n",
    "if response.status_code == 200:\n",
    "    print(\"Work order created successfully:\", response.json())\n",
    "    newWorkOrder = response.json()['value']\n",
    "else:\n",
    "    print(\"Failed to create work order:\", response.status_code, response.text)\n"
   ]
  },
  {
   "cell_type": "markdown",
   "metadata": {},
   "source": [
    "## Release the Work Order created"
   ]
  },
  {
   "cell_type": "markdown",
   "metadata": {},
   "source": [
    "Before releasing a WO using the proper action it's needed to retrieve the e-tag from the Work Order to ensure object has not been changed meanwhile,\n",
    "<b>Please Note</b> this is just an example but e-tag is not used because the Work Order will get automatically released when all Work Tasks underneath are released (and that's what we will do in the step following this)"
   ]
  },
  {
   "cell_type": "code",
   "execution_count": 6,
   "metadata": {},
   "outputs": [
    {
     "name": "stdout",
     "output_type": "stream",
     "text": [
      "ETag retrieved: W/\"Vy8iQUFBWkdHQUFpQUFGeGUwQUFBOjIi\"\n"
     ]
    }
   ],
   "source": [
    "\n",
    "#Get the e-tag\n",
    "urlGetWorkOrder = f\"https://{ifs_cloud_instance}/main/ifsapplications/projection/v1/ActiveWorkOrdersHandling.svc/ActiveSeparateSet?$filter=(WoNo eq {newWorkOrder})\"\n",
    "\n",
    "# Headers for the request\n",
    "headers = {\n",
    "    \"Content-Type\": \"application/json\",\n",
    "    \"Accept\": \"application/json\",\n",
    "    \"Authorization\": f\"Bearer {access_token}\"\n",
    "}\n",
    "\n",
    "# Make the GET request to get the e-tag of the work order\n",
    "responseGetWorkOrder = requests.get(urlGetWorkOrder, headers=headers)\n",
    "responseJson = json.loads(responseGetWorkOrder.text)\n",
    "\n",
    "if responseGetWorkOrder.status_code == 200:\n",
    "    # Extract the ETag from the response headers\n",
    "    etag = responseJson['value'][0]['@odata.etag']\n",
    "    print(\"ETag retrieved:\", etag)\n",
    "else:\n",
    "    print(\"Failed to create work order:\", responseGetWorkOrder.status_code, responseGetWorkOrder.text)\n"
   ]
  },
  {
   "cell_type": "code",
   "execution_count": 87,
   "metadata": {},
   "outputs": [
    {
     "name": "stdout",
     "output_type": "stream",
     "text": [
      "Work order releases: \n"
     ]
    }
   ],
   "source": [
    "\n",
    "#Release the WO\n",
    "\n",
    "# URL of the API endpoint\n",
    "url = f\"https://ohot-d04.build.ifsdemoworld.com/int/ifsapplications/projection/v1/WorkOrderServices.svc/ActiveWorkOrderSet(WoNo={newWorkOrder})/IfsApp.WorkOrderServices.ActiveSeparate_Release\"\n",
    "\n",
    "\n",
    "# Headers for the request\n",
    "headers = {\n",
    "    \"Content-Type\": \"application/json\",\n",
    "    \"Accept\": \"application/json\",\n",
    "    \"Authorization\": f\"Bearer {access_token}\",\n",
    "    \"If-Match\": etag\n",
    "}\n",
    "\n",
    "payload = \"{}\"\n",
    "\n",
    "# Make the POST request to create the work order\n",
    "response = requests.post(url, headers=headers, data=payload)\n",
    "\n",
    "# Check the response\n",
    "if response.status_code == 204:\n",
    "    print(\"Work order releases:\", response.text)\n",
    "else:\n",
    "    print(\"Failed to release the work order:\", response.status_code, response.text)"
   ]
  },
  {
   "cell_type": "markdown",
   "metadata": {},
   "source": [
    "## Release all the Work Task underneath the Work Order (WO will be then automatically released)"
   ]
  },
  {
   "cell_type": "code",
   "execution_count": 9,
   "metadata": {},
   "outputs": [
    {
     "name": "stdout",
     "output_type": "stream",
     "text": [
      "Info: 200 {\"@odata.context\":\"https://ohot-d04.build.ifsdemoworld.com/main/ifsapplications/projection/v1/WorkTasksHandling.svc/$metadata#JtTaskSet\",\"value\":[{\"@odata.etag\":\"W/\\\"Vy8iQUFBWlpmQUFpQUFGdjloQUFKOjIi\\\"\",\"luname\":\"JtTask\",\"keyref\":\"TASK_SEQ=262^\",\"Objstate\":\"NEW\",\"Objgrants\":null,\"TaskSeq\":262,\"OrderNo\":10,\"WoNo\":17,\"Site\":\"211\",\"Company\":\"27\",\"OrganizationSite\":\"211\",\"OrganizationId\":\"211\",\"PriorityId\":null,\"WorkTypeId\":\"40\",\"Description\":\"WorkTask created using WorkOrderServices API\",\"LongDescription\":null,\"CreatedBy\":\"TISCNL\",\"CreatedDate\":\"2024-07-26T11:40:44Z\",\"PreparedBy\":null,\"ReportedBy\":\"TISCNL\",\"ReportedDate\":\"2024-07-26T11:40:44Z\",\"MpbLatestUpdate\":null,\"PlannedStart\":null,\"PlannedFinish\":null,\"Duration\":2.5,\"ActualStart\":null,\"ActualFinish\":null,\"EarliestStart\":\"2024-03-29T08:00:00Z\",\"LatestStart\":null,\"LatestFinish\":\"2024-12-31T14:00:00Z\",\"FixedStart\":null,\"SlaOrderNo\":null,\"SlaOrderLineNo\":null,\"ExcludeFromScheduling\":false,\"AdjustedDuration\":false,\"Remark\":null,\"InternalRemark\":null,\"ActionTaken\":null,\"CancelCause\":null,\"SourceConnectionLuName\":null,\"SourceConnectionRowkey\":null,\"ReportedConnectionType\":null,\"ReportedObjConnLuName\":null,\"ReportedObjConnRowkey\":null,\"ActualConnectionType\":null,\"ActualObjConnLuName\":null,\"ActualObjConnRowkey\":null,\"OperationalStatusId\":null,\"TestPointSeq\":null,\"ErrorCauseLong\":null,\"ErrorType\":null,\"ErrorClass\":null,\"ErrorDiscoverCode\":null,\"ErrorSymptom\":null,\"ItemClassId\":null,\"ErrorCause\":null,\"ItemClassFunction\":null,\"FailingComponent\":null,\"PerformedActionId\":null,\"PerformedWork\":null,\"CustomerNo\":null,\"VendorNo\":null,\"ContractId\":null,\"LineNo\":null,\"Contact\":null,\"ContactPhoneNo\":null,\"EMail\":null,\"CustOrderType\":\"SEO\",\"CurrencyCode\":\"EUR\",\"DeliveryAddress\":null,\"CustOrderNo\":null,\"AuthorizeCode\":\"EVLOUS\",\"ReferenceNo\":null,\"CustWarrType\":null,\"CustWarranty\":null,\"ObjCustWarranty\":null,\"SupWarrType\":null,\"SupWarranty\":null,\"ObjSupWarranty\":null,\"ContractorOwner\":null,\"JobId\":null,\"MaintTeamSite\":null,\"TeamId\":null,\"PreAccountingId\":4747,\"NoteId\":25825,\"SourceRef1\":null,\"SourceRef2\":null,\"SourceRef3\":null,\"SourceRef4\":null,\"MasterTaskSeq\":null,\"DuplicateType\":null,\"CostCode\":null,\"QuotationNo\":null,\"QuotationRev\":null,\"QuoTaskSeq\":null,\"MobileTaskId\":null,\"InspectionNote\":null,\"GenerateNote\":false,\"WorkStageId\":null,\"PmGroupId\":null,\"ChangedDate\":\"2024-07-26T10:40:44Z\",\"AllowMultipleVisits\":true,\"MinVisitDuration\":null,\"SrvRequestScopeId\":null,\"EventId\":null,\"EventPeriodSeq\":null,\"HmContractId\":null,\"HmContractLineNo\":null,\"PostponedReason\":null,\"OriginalLatestFinish\":null,\"SplitMinPriority\":null,\"InterruptPriority\":null,\"InterruptMultiplier\":null,\"Interrupt\":null,\"DurationOverride\":null,\"ActivityTypeId\":null,\"ServiceOrganizationId\":null,\"ServiceDeliveryUnit\":null,\"DisplacementPriority\":null,\"DatasetId\":\"211\",\"ReqId\":null,\"ReportedObjectSeq\":null,\"ReportedObjectSite\":null,\"ReportedObjectId\":null,\"ReportedObjectDescription\":null,\"ReportedObjConnLuNameDb\":null,\"ActualObjectSeq\":null,\"ActualObjectSite\":null,\"ActualObjectId\":null,\"ActualObjectDescription\":null,\"ActualObjConnLuNameDb\":null,\"ItemClassSource\":null,\"TestPointId\":null,\"OperationalStatusType\":null,\"WarrantySupplier\":null,\"SupplierWarrantyTypeDesc\":null,\"HasSupplierWarranty\":false,\"CustomerWarrantyTypeDesc\":null,\"HasCustomerWarranty\":false,\"Dependencies\":null,\"Progress\":null,\"ProgressRemaining\":null,\"ActiveWAChildrens\":false,\"VendorNoDesc\":null,\"Handover\":false,\"DocumentText\":false,\"ProjectConnected\":false,\"OnHoldDb\":false,\"FinallyPosted\":false,\"AuthRequired\":false,\"TransferredToMobile\":false,\"ActualObjLevel\":null,\"ReportedObjLevel\":null,\"TaskLocation\":null,\"JobDescription\":null,\"HasSrvQuo\":false,\"CustomerName\":null,\"SourceConnectionLuNameDb\":null,\"SourceObjectSite\":null,\"SourceObjectId\":null,\"SourceObjectDescription\":null,\"SourceObjectIdDescription\":null,\"PmGroupingRuleId\":null,\"SchedulingStatus\":null,\"SchedulingInfo\":null,\"SchedulingInsideOneMaint\":true,\"SchedulingObstructive\":false,\"CriticalWork\":false,\"PsoScheduleStatus\":null,\"PsoLastUpdate\":null,\"LinastInstalled\":1,\"WoObjState\":\"WORKREQUEST\",\"HasResourceDemands\":\"TRUE\",\"IsInternallySourced\":\"TRUE\",\"AppointmentBookingAllowed\":true,\"CancelAppointmentAllowed\":\"FALSE\",\"ActiveWorkAssignments\":false,\"NeedSignOff\":false,\"PerformedSignOff\":false,\"InspectorSignOffExists\":\"FALSE\",\"IndependentSignOffExists\":\"FALSE\",\"InspectorSignOffPerformed\":\"FALSE\",\"IndependentSignOffPerformed\":\"FALSE\",\"HasSignature\":\"FALSE\",\"WoObjectCurrentPos\":null,\"TaskObjectCurrentPos\":null,\"IsReleased\":\"FALSE\",\"IsActive\":\"TRUE\",\"HasCostLines\":\"FALSE\",\"HasWipAccounting\":\"FALSE\",\"IsOnHold\":\"FALSE\",\"DummyVal\":null,\"TaskSeqChar\":\"262\",\"IsIssueAllowed\":\"FALSE\",\"IsUnissueAllowed\":\"FALSE\",\"IsValidStatusForReturn\":\"FALSE\",\"IsReserveAllowed\":\"FALSE\",\"EnableReserve\":\"FALSE\",\"EnableUnReserve\":\"FALSE\",\"CurrUser\":\"TISCNL\",\"TaskCount\":1,\"OngoingStepsCount\":0,\"WorkTaskDependencies\":false,\"DuplicateTypeDb\":null,\"HasPermit\":false,\"AppointmentMode\":null,\"AppointmentStart\":null,\"AppointmentCompletion\":null,\"Appointed\":null,\"ConditionMeasurementRequired\":false,\"ConditionMeasurementPerformed\":false,\"ZonesAccessPanelsExist\":false,\"PerformRenameOfSerials\":false,\"JobType\":\"WorkTask\",\"Keyref2\":\"*\",\"ConnectedMaintOrderNo\":null,\"WoStatus\":\"WORKREQUEST\",\"WoConnectionType\":\"EQUIPMENT\",\"WoHasStructure\":\"FALSE\",\"DocumentTextCount\":0,\"HasActiveWoChildren\":\"TRUE\",\"FinishWithTask\":\"FALSE\",\"MaintMatReqLineCount\":0,\"MatReturnLinesCount\":0,\"SrvOrganizationSiteDesc\":\"Ventechi Italy\",\"EquipmentObjectSeq\":null,\"IsDowntimeEnable\":\"FALSE\",\"HasDowntimeReported\":\"FALSE\",\"ObjDowntimeDuration\":null,\"ContractGroup\":null,\"EnablePostponement\":\"FALSE\",\"LatestFinishPostponed\":false,\"SafetyCriticalElement\":null,\"EquipClassificationExists\":false,\"HasCrewDemands\":\"FALSE\",\"ReportedLinastLinearAssetId\":null,\"ActualLinastLinearAssetId\":null,\"ReportedLinastLinearAssetRevNo\":null,\"ActualLinastLinearAssetRevNo\":null,\"InterruptDb\":false,\"TaskConnectedToBundle\":false,\"LuName\":\"JtTask\",\"SlaCommitmentStatus\":\"NOACTIVE\",\"AvailabilityType\":\"AvailabilityPattern\",\"HasTaskAvailOrPattern\":\"FALSE\",\"MaintenanceStrategyId\":null,\"AreaId\":null,\"DeckId\":null,\"RoomId\":null,\"SalesSite\":\"211\"}]}\n",
      "Work Task releases: \n"
     ]
    }
   ],
   "source": [
    "#Release all tasks in the work order\n",
    "urlGetAllTasksPerWO = f\"https://{ifs_cloud_instance}/main/ifsapplications/projection/v1/WorkTasksHandling.svc/JtTaskSet?$filter=(WoNo eq {newWorkOrder})\"\n",
    "\n",
    "# Headers for the request\n",
    "headers = {\n",
    "    \"Content-Type\": \"application/json\",\n",
    "    \"Accept\": \"application/json\",\n",
    "    \"Authorization\": f\"Bearer {access_token}\"\n",
    "}\n",
    "\n",
    "# Make the GET request to get the e-tag of the work order\n",
    "responseGetTasksPerWorkOrder = requests.get(urlGetAllTasksPerWO, headers=headers)\n",
    "responseJson = json.loads(responseGetTasksPerWorkOrder.text)\n",
    "\n",
    "print(\"Info:\", responseGetWorkOrder.status_code, responseGetTasksPerWorkOrder.text)\n",
    "\n",
    "#Number of tasks to release\n",
    "nbrTask = len(responseJson['value'])\n",
    "\n",
    "#Loop through all the task\n",
    "for taskIndex in range(nbrTask):\n",
    "    taskId = responseJson['value'][taskIndex]['TaskSeq']\n",
    "\n",
    "    #Get the etag for the task\n",
    "    urlGetTask = f\"https://{ifs_cloud_instance}/main/ifsapplications/projection/v1/WorkTasksHandling.svc/JtTaskSet(TaskSeq={taskId})\"\n",
    "    headers = {\n",
    "        \"Content-Type\": \"application/json\",\n",
    "        \"Accept\": \"application/json\",\n",
    "        \"Authorization\": f\"Bearer {access_token}\"\n",
    "    }\n",
    "    responseGetTask = requests.get(urlGetTask, headers=headers)\n",
    "    responseJsonTask = json.loads(responseGetTask.text)\n",
    "    etagTask = responseJsonTask['@odata.etag']\n",
    "\n",
    "\n",
    "    #Release the task\n",
    "    url = f\"https://{ifs_cloud_instance}/int/ifsapplications/projection/v1/WorkTaskServices.svc/WorkTaskSet(TaskSeq={taskId})/IfsApp.WorkTaskServices.JtTask_Release\"\n",
    "    headers = {\n",
    "        \"Content-Type\": \"application/json\",\n",
    "        \"Accept\": \"application/json\",\n",
    "        \"Authorization\": f\"Bearer {access_token}\",\n",
    "        \"If-Match\": etagTask\n",
    "    }\n",
    "    payload = \"{}\"\n",
    "    response = requests.post(url, headers=headers, data=payload)\n",
    "\n",
    "    # Check the response\n",
    "    if response.status_code == 204:\n",
    "        print(\"Work Task releases:\", response.text)\n",
    "    else:\n",
    "        print(\"Failed to release the work task:\", response.status_code, response.text)\n",
    "\n"
   ]
  }
 ],
 "metadata": {
  "kernelspec": {
   "display_name": "Python 3",
   "language": "python",
   "name": "python3"
  },
  "language_info": {
   "codemirror_mode": {
    "name": "ipython",
    "version": 3
   },
   "file_extension": ".py",
   "mimetype": "text/x-python",
   "name": "python",
   "nbconvert_exporter": "python",
   "pygments_lexer": "ipython3",
   "version": "3.12.4"
  }
 },
 "nbformat": 4,
 "nbformat_minor": 2
}
