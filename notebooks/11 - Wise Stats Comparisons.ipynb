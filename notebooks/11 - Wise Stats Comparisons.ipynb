{
 "cells": [
  {
   "cell_type": "markdown",
   "metadata": {},
   "source": [
    "## This Workbook was created to compare the outcome of various IFS WISE (What If Scenario Explorer) output files"
   ]
  },
  {
   "cell_type": "markdown",
   "metadata": {},
   "source": [
    "Load Libs"
   ]
  },
  {
   "cell_type": "code",
   "execution_count": 1,
   "metadata": {},
   "outputs": [],
   "source": [
    "%run \"10 - PSO Basic Stats.ipynb\""
   ]
  },
  {
   "cell_type": "code",
   "execution_count": 2,
   "metadata": {},
   "outputs": [],
   "source": [
    "import os\n",
    "import beautifultable \n",
    "import openpyxl\n",
    "from openpyxl.styles import Font\n",
    "from datetime import datetime"
   ]
  },
  {
   "cell_type": "markdown",
   "metadata": {},
   "source": [
    "## Loop through all files in the /data directory starting with WISE and extract their stats"
   ]
  },
  {
   "cell_type": "code",
   "execution_count": 3,
   "metadata": {},
   "outputs": [
    {
     "name": "stdout",
     "output_type": "stream",
     "text": [
      "+---------+---------------+---------------+---------+----------+------------+---------+----------+---------+----------+------------------+---------+---------+-----------+\n",
      "|  File   |     from      |      to       | Margin  | tot allo | Available  | tot tra | tot trav | avg tra | avg trav | travel distance  | tot on  | tot pri | tot unuti |\n",
      "|         |               |               |         | cations  | resources  | vel tim | eldistan | vel tim | eldistan |   per resource   | site ti | vate ti | lised tim |\n",
      "|         |               |               |         |          |            |    e    |    ce    |    e    |    ce    |                  |   me    |   me    |     e     |\n",
      "+---------+---------------+---------------+---------+----------+------------+---------+----------+---------+----------+------------------+---------+---------+-----------+\n",
      "| WISE-ON | 2022-03-01T00 | 2022-03-15T00 | 2280763 |   942    |     50     | 9 days, | 10057836 | 0:14:07 | 10368.90 |    201156.72     | 87 days | 0:00:00 | 64 days,  |\n",
      "| EBD01.x | :00:00+00:00  | :00:00+00:00  |  .188   |          |            |  12:15: |          |         |    3     |                  | , 2:08: |         | 11:04:34  |\n",
      "|   ml    |               |               |         |          |            |   16    |          |         |          |                  |   25    |         |           |\n",
      "+---------+---------------+---------------+---------+----------+------------+---------+----------+---------+----------+------------------+---------+---------+-----------+\n",
      "| WISE-ON | 2022-03-01T00 | 2022-03-15T00 | 6172672 |   938    |     36     | 13 days | 13810306 | 0:19:38 | 14355.82 |    383619.611    | 86 days | 0:00:00 | 106 days, |\n",
      "| EBD02.x | :00:00+00:00  | :00:00+00:00  |  0.134  |          |            | , 3:01: |          |         |    7     |                  | , 3:29: |         |  18:55:53 |\n",
      "|   ml    |               |               |         |          |            |   24    |          |         |          |                  |   59    |         |           |\n",
      "+---------+---------------+---------------+---------+----------+------------+---------+----------+---------+----------+------------------+---------+---------+-----------+\n"
     ]
    }
   ],
   "source": [
    "#TODO: refactor imaging there will be an API for WISE in the Future\n",
    "path = '..\\\\data\\\\'\n",
    "\n",
    "#loop through all files that starts with 'WISE' in the directory path and assign to a list the value of the function calculate_stats\n",
    "\n",
    "files = [f for f in os.listdir(path) if f.startswith('WISE')]\n",
    "stats_dict = {f: calculate_stats_from_plan(path+f) for f in files}\n",
    "\n",
    "#loop through all items of stats_dict and add this to a BeautifulTable() object where each column is the name of the dictionary key and the values are the stats of the files\n",
    "table = beautifultable.BeautifulTable(maxwidth=170)\n",
    "columns =  {**{'File':'file'} , **list(stats_dict.values())[0][0]} # add filename for the first key in the stats_dict\n",
    "#table.columns.header = list(stats_dict.values())[0][0].keys()\n",
    "table.columns.header = columns.keys()\n",
    "\n",
    "\n",
    "for key, value in stats_dict.items():\n",
    "    table.rows.append([key] + list(value[0].values()))\n",
    "\n",
    "print(table)\n"
   ]
  },
  {
   "cell_type": "markdown",
   "metadata": {},
   "source": [
    "Write the outcome of the WISE stats to an excel file"
   ]
  },
  {
   "cell_type": "code",
   "execution_count": 4,
   "metadata": {},
   "outputs": [],
   "source": [
    "#Build an excel file with data from stats_dict where each column is the name of the dictionary key and the values are the stats of the files\n",
    "\n",
    "wb = openpyxl.Workbook()\n",
    "ws = wb.active\n",
    "\n",
    "ws.title = 'WISE stats'\n",
    "\n",
    "#Add header\n",
    "#ws.append(list(columns.keys()))\n",
    "\n",
    "# Add the header to the first row of the sheet with bold formatting\n",
    "for col_num, header_title in enumerate(columns.keys(), start=1):\n",
    "    cell = ws.cell(row=1, column=col_num, value=header_title)\n",
    "    cell.font = Font(bold=True)\n",
    "\n",
    "#loop through each row of stats_dict and add data to wb\n",
    "\n",
    "for i, row in enumerate(table.rows):\n",
    "    for j, cell in enumerate(row):\n",
    "        ws.cell(row=i+2, column=j+1, value=cell)\n",
    "\n",
    "# Get the current timestamp and format it\n",
    "timestamp = datetime.now().strftime(\"%Y%m%d_%H%M%S\")\n",
    "full_file_name = f\"{'.//output//wise_stats'}_{timestamp}{'.xlsx'}\"\n",
    "\n",
    "#Save to file\n",
    "wb.save(full_file_name)\n"
   ]
  }
 ],
 "metadata": {
  "kernelspec": {
   "display_name": "Python 3",
   "language": "python",
   "name": "python3"
  },
  "language_info": {
   "codemirror_mode": {
    "name": "ipython",
    "version": 3
   },
   "file_extension": ".py",
   "mimetype": "text/x-python",
   "name": "python",
   "nbconvert_exporter": "python",
   "pygments_lexer": "ipython3",
   "version": "3.12.4"
  }
 },
 "nbformat": 4,
 "nbformat_minor": 2
}
